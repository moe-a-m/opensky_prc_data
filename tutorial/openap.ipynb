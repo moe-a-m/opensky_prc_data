{
 "cells": [
  {
   "cell_type": "code",
   "execution_count": 1,
   "id": "b6af536d-6cd4-40c2-b1e5-2214a5b4dd8c",
   "metadata": {},
   "outputs": [],
   "source": [
    "from openap import prop\n",
    "from pprint import pprint"
   ]
  },
  {
   "cell_type": "code",
   "execution_count": 2,
   "id": "e9e87555-b339-48ce-9467-b3133310edc1",
   "metadata": {},
   "outputs": [
    {
     "name": "stdout",
     "output_type": "stream",
     "text": [
      "Supports 36 aircraft types\n",
      "['a19n', 'a20n', 'a21n', 'a318', 'a319', 'a320', 'a321', 'a332', 'a333', 'a343', 'a359', 'a388', 'b37m', 'b38m', 'b39m', 'b3xm', 'b734', 'b737', 'b738', 'b739', 'b744', 'b748', 'b752', 'b763', 'b772', 'b773', 'b77w', 'b788', 'b789', 'c550', 'e145', 'e170', 'e190', 'e195', 'e75l', 'glf6']\n"
     ]
    }
   ],
   "source": [
    "avaiable_aircraft = prop.available_aircraft()\n",
    "\n",
    "print(f\"Supports {len(avaiable_aircraft)} aircraft types\")\n",
    "print(avaiable_aircraft)"
   ]
  },
  {
   "cell_type": "code",
   "execution_count": 3,
   "id": "2e40474d-9438-42fd-b0d7-791cd7d7f007",
   "metadata": {},
   "outputs": [
    {
     "name": "stdout",
     "output_type": "stream",
     "text": [
      "{'aircraft': 'Airbus A320',\n",
      " 'ceiling': 12500,\n",
      " 'cruise': {'height': 11000, 'mach': 0.78},\n",
      " 'drag': {'cd0': 0.018, 'e': 0.799, 'gears': 0.017, 'k': 0.039},\n",
      " 'engine': {'default': 'CFM56-5B4',\n",
      "            'mount': 'wing',\n",
      "            'number': 2,\n",
      "            'options': {'A320-111': 'CFM56-5-A1',\n",
      "                        'A320-211': 'CFM56-5-A1',\n",
      "                        'A320-212': 'CFM56-5A3',\n",
      "                        'A320-214': 'CFM56-5B4',\n",
      "                        'A320-215': 'CFM56-5B5',\n",
      "                        'A320-216': 'CFM56-5B6',\n",
      "                        'A320-231': 'V2500-A1',\n",
      "                        'A320-232': 'V2527-A5',\n",
      "                        'A320-233': 'V2527E-A5'},\n",
      "            'type': 'turbofan'},\n",
      " 'flaps': {'Sf/S': 0.17,\n",
      "           'area': 21.1,\n",
      "           'bf/b': 0.78,\n",
      "           'cf/c': 0.176,\n",
      "           'lambda_f': 0.9,\n",
      "           'type': 'single-slotted'},\n",
      " 'fuel': {'engine': 'CFM56-5B4/P', 'fuel_coef': 2.65942225},\n",
      " 'fuselage': {'height': 4.14, 'length': 37.57, 'width': 3.95},\n",
      " 'limits': {'MFC': 24210,\n",
      "            'MLW': 66000,\n",
      "            'MMO': 0.82,\n",
      "            'MTOW': 78000,\n",
      "            'OEW': 42600,\n",
      "            'VMO': 350,\n",
      "            'ceiling': 12500},\n",
      " 'mfc': 24210,\n",
      " 'mlw': 66000,\n",
      " 'mmo': 0.82,\n",
      " 'mtow': 78000,\n",
      " 'oew': 42600,\n",
      " 'pax': {'high': 170, 'low': 140, 'max': 180},\n",
      " 'vmo': 350,\n",
      " 'wing': {'area': 124, 'mac': 4.1935, 'span': 35.8, 'sweep': 25, 't/c': None}}\n"
     ]
    }
   ],
   "source": [
    "aircraft = prop.aircraft(\"A320\")\n",
    "pprint(aircraft)"
   ]
  },
  {
   "cell_type": "code",
   "execution_count": 4,
   "id": "f3a6e231-4966-46af-b038-230db246101a",
   "metadata": {},
   "outputs": [
    {
     "data": {
      "text/plain": [
       "{'uid': '2CM014',\n",
       " 'name': 'CFM56-5B4',\n",
       " 'manufacturer': 'CFM International',\n",
       " 'type': 'TF',\n",
       " 'bpr': 5.9,\n",
       " 'pr': 27.1,\n",
       " 'max_thrust': 117900,\n",
       " 'ei_hc_to': 0.1,\n",
       " 'ei_hc_co': 0.1,\n",
       " 'ei_hc_app': 0.13,\n",
       " 'ei_hc_idl': 3.87,\n",
       " 'ei_co_to': 0.5,\n",
       " 'ei_co_co': 0.5,\n",
       " 'ei_co_app': 2.33,\n",
       " 'ei_co_idl': 31.9,\n",
       " 'ei_nox_to': 28.7,\n",
       " 'ei_nox_co': 23.3,\n",
       " 'ei_nox_app': 10.0,\n",
       " 'ei_nox_idl': 4.3,\n",
       " 'ff_to': 1.166,\n",
       " 'ff_co': 0.961,\n",
       " 'ff_app': 0.326,\n",
       " 'ff_idl': 0.107,\n",
       " 'fuel_lto': 421.0,\n",
       " 'fuel_c3': 0.0468598,\n",
       " 'fuel_c2': 0.202282,\n",
       " 'fuel_c1': 0.871899,\n",
       " 'fuel_a': 0.587855,\n",
       " 'fuel_b': 0.417561,\n",
       " 'cruise_thrust': 22241.0,\n",
       " 'cruise_sfc': 0.0154,\n",
       " 'cruise_mach': 0.8,\n",
       " 'cruise_alt': 35000.0,\n",
       " 'fuel_ch': 5.2e-07}"
      ]
     },
     "execution_count": 4,
     "metadata": {},
     "output_type": "execute_result"
    }
   ],
   "source": [
    "engine = prop.engine(\"CFM56-5B4\")\n",
    "engine"
   ]
  },
  {
   "cell_type": "code",
   "execution_count": 5,
   "id": "9a725674-9a01-40e9-844b-f977fbf657c4",
   "metadata": {},
   "outputs": [
    {
     "name": "stdout",
     "output_type": "stream",
     "text": [
      "A320 at condition: \n",
      "Mass:62000  TAS:250  ALT:20000  VS:1000 \n",
      "Clean configuration \n",
      "\n",
      "Total drag is 33.0 kN\n",
      "\n"
     ]
    }
   ],
   "source": [
    "from openap.drag import Drag\n",
    "\n",
    "typecode = \"A320\"\n",
    "\n",
    "mass = 62_000  # kg\n",
    "TAS = 250  # kts\n",
    "ALT = 20_000  # ft\n",
    "VS = 1000  # ft/min\n",
    "\n",
    "drag = Drag(ac=typecode)\n",
    "\n",
    "# clean configuration\n",
    "D = drag.clean(mass=mass, tas=TAS, alt=ALT, vs=VS)\n",
    "\n",
    "print(f\"\"\"{typecode} at condition: \n",
    "Mass:{mass}  TAS:{TAS}  ALT:{ALT}  VS:{VS} \n",
    "Clean configuration \n",
    "\n",
    "Total drag is {D//1000} kN\n",
    "\"\"\")"
   ]
  },
  {
   "cell_type": "code",
   "execution_count": 6,
   "id": "93d4a41d-bf87-4dd5-a5cd-550715fda8d0",
   "metadata": {},
   "outputs": [
    {
     "name": "stdout",
     "output_type": "stream",
     "text": [
      "A320 at condition: \n",
      "Mass:62000  TAS:150  ALT:1000  VS:1500 \n",
      "Flap:20 deg,  Landing Gear extended \n",
      "\n",
      "Total drag is 46.0 kN\n",
      "\n"
     ]
    }
   ],
   "source": [
    "mass = 62_000  # kg\n",
    "TAS = 150  # kts\n",
    "ALT = 1000  # ft\n",
    "VS = 1500  # ft/min\n",
    "flap_angle = 20  # degree\n",
    "\n",
    "# with flaps and landing gears\n",
    "D = drag.nonclean(\n",
    "    mass=mass,\n",
    "    tas=TAS,\n",
    "    alt=ALT,\n",
    "    flap_angle=flap_angle,\n",
    "    vs=VS,\n",
    "    landing_gear=True,\n",
    ")\n",
    "\n",
    "print(f\"\"\"{typecode} at condition: \n",
    "Mass:{mass}  TAS:{TAS}  ALT:{ALT}  VS:{VS} \n",
    "Flap:{flap_angle} deg,  Landing Gear extended \n",
    "\n",
    "Total drag is {D//1000} kN\n",
    "\"\"\")"
   ]
  },
  {
   "cell_type": "code",
   "execution_count": 7,
   "id": "f0f5f883-aeeb-4628-8921-ef4e6b047773",
   "metadata": {},
   "outputs": [],
   "source": [
    "from openap.thrust import Thrust\n",
    "\n",
    "thr_a320 = Thrust(ac=\"A320\", eng=\"CFM56-5B4\")"
   ]
  },
  {
   "cell_type": "code",
   "execution_count": 8,
   "id": "e297d429-d5dc-49f9-90fb-05140d33aa1b",
   "metadata": {},
   "outputs": [
    {
     "name": "stdout",
     "output_type": "stream",
     "text": [
      "Max thrust: 200.72 kN\n"
     ]
    }
   ],
   "source": [
    "T = thr_a320.takeoff(tas=100, alt=0)\n",
    "print(f\"Max thrust: {(T/1000).round(2)} kN\")"
   ]
  },
  {
   "cell_type": "code",
   "execution_count": 9,
   "id": "9c85adf8-33e8-4550-a601-0aa4415d7c14",
   "metadata": {},
   "outputs": [
    {
     "name": "stdout",
     "output_type": "stream",
     "text": [
      "Idle thrust: 9.31 kN\n"
     ]
    }
   ],
   "source": [
    "T = thr_a320.descent_idle(tas=250, alt=10000)\n",
    "print(f\"Idle thrust: {(T/1000).round(2)} kN\")"
   ]
  },
  {
   "cell_type": "code",
   "execution_count": 10,
   "id": "3ea399db-8d1f-4dd4-97e8-3028b13f6906",
   "metadata": {},
   "outputs": [],
   "source": [
    "from openap.kinematic import WRAP\n",
    "\n",
    "wrap = WRAP(ac=\"A320\")\n",
    "\n",
    "params = wrap.takeoff_speed()\n",
    "params = wrap.takeoff_distance()\n",
    "params = wrap.takeoff_acceleration()\n",
    "params = wrap.initclimb_vcas()\n",
    "params = wrap.initclimb_vs()\n",
    "params = wrap.climb_range()\n",
    "params = wrap.climb_const_vcas()\n",
    "params = wrap.climb_const_mach()\n",
    "params = wrap.climb_cross_alt_concas()\n",
    "params = wrap.climb_cross_alt_conmach()\n",
    "params = wrap.climb_vs_pre_concas()\n",
    "params = wrap.climb_vs_concas()\n",
    "params = wrap.climb_vs_conmach()\n",
    "params = wrap.cruise_range()\n",
    "params = wrap.cruise_alt()\n",
    "params = wrap.cruise_init_alt()\n",
    "params = wrap.cruise_mach()\n",
    "params = wrap.descent_range()\n",
    "params = wrap.descent_const_mach()\n",
    "params = wrap.descent_const_vcas()\n",
    "params = wrap.descent_cross_alt_conmach()\n",
    "params = wrap.descent_cross_alt_concas()\n",
    "params = wrap.descent_vs_conmach()\n",
    "params = wrap.descent_vs_concas()\n",
    "params = wrap.descent_vs_post_concas()\n",
    "params = wrap.finalapp_vcas()\n",
    "params = wrap.finalapp_vs()\n",
    "params = wrap.landing_speed()\n",
    "params = wrap.landing_distance()\n",
    "params = wrap.landing_acceleration()"
   ]
  },
  {
   "cell_type": "code",
   "execution_count": 11,
   "id": "460e5cf4-5641-4ec8-ace1-e7c070c804cf",
   "metadata": {},
   "outputs": [
    {
     "data": {
      "text/plain": [
       "{'default': 1.65,\n",
       " 'minimum': 1.06,\n",
       " 'maximum': 2.24,\n",
       " 'statmodel': 'norm',\n",
       " 'statmodel_params': [1.65, 0.36]}"
      ]
     },
     "execution_count": 11,
     "metadata": {},
     "output_type": "execute_result"
    }
   ],
   "source": [
    "wrap.takeoff_distance()"
   ]
  },
  {
   "cell_type": "code",
   "execution_count": 12,
   "id": "58fe1ad2-af9d-43cc-bbf7-57ed1e035595",
   "metadata": {},
   "outputs": [
    {
     "data": {
      "image/png": "[encoded data removed]",
      "text/plain": [
       "<Figure size 400x150 with 1 Axes>"
      ]
     },
     "metadata": {},
     "output_type": "display_data"
    }
   ],
   "source": [
    "import numpy as np\n",
    "import matplotlib.pyplot as plt\n",
    "from scipy import stats\n",
    "\n",
    "params = wrap.takeoff_distance()\n",
    "\n",
    "mean, std = params[\"statmodel_params\"]\n",
    "\n",
    "x = np.linspace(params[\"minimum\"], params[\"maximum\"], 100)\n",
    "y = stats.norm.pdf(x, mean, std)\n",
    "\n",
    "plt.figure(figsize=(4, 1.5))\n",
    "plt.plot(x, y)\n",
    "plt.fill_between(x, 0, y, alpha=0.2)\n",
    "plt.ylim(0)\n",
    "plt.xlabel(\"take-off distance (km)\")\n",
    "plt.gca().axes.get_yaxis().set_visible(False)\n",
    "plt.show()"
   ]
  },
  {
   "cell_type": "code",
   "execution_count": 13,
   "id": "2784009f-9012-422c-ae0e-28857ea7175b",
   "metadata": {},
   "outputs": [
    {
     "data": {
      "text/plain": [
       "{'default': 0.78,\n",
       " 'minimum': 0.75,\n",
       " 'maximum': 0.8,\n",
       " 'statmodel': 'beta',\n",
       " 'statmodel_params': [17.82, 5.05, 0.62, 0.2]}"
      ]
     },
     "metadata": {},
     "output_type": "display_data"
    },
    {
     "data": {
      "image/png": "[encoded data removed]",
      "text/plain": [
       "<Figure size 400x150 with 1 Axes>"
      ]
     },
     "metadata": {},
     "output_type": "display_data"
    }
   ],
   "source": [
    "params = wrap.cruise_mach()\n",
    "display(params)\n",
    "\n",
    "x = np.linspace(params[\"minimum\"], params[\"maximum\"], 100)\n",
    "\n",
    "model_class = getattr(stats, params[\"statmodel\"])\n",
    "model = model_class(*params[\"statmodel_params\"])\n",
    "\n",
    "y = model.pdf(x)\n",
    "\n",
    "plt.figure(figsize=(4, 1.5))\n",
    "plt.plot(x, y)\n",
    "plt.fill_between(x, 0, y, alpha=0.2)\n",
    "plt.ylim(0)\n",
    "plt.xlabel(\"curise Mach number\")\n",
    "plt.gca().axes.get_yaxis().set_visible(False)\n",
    "plt.show()"
   ]
  },
  {
   "cell_type": "code",
   "execution_count": 16,
   "id": "c706ad16-1d05-4d3b-a612-024baa56d3d0",
   "metadata": {},
   "outputs": [],
   "source": [
    "model_class = getattr(stats, params[\"statmodel\"])\n",
    "model = model_class(*params[\"statmodel_params\"])"
   ]
  },
  {
   "cell_type": "code",
   "execution_count": null,
   "id": "b81f8371-e249-4b45-991e-cdb240693a20",
   "metadata": {},
   "outputs": [],
   "source": []
  }
 ],
 "metadata": {
  "kernelspec": {
   "display_name": "Python 3 (ipykernel)",
   "language": "python",
   "name": "python3"
  },
  "language_info": {
   "codemirror_mode": {
    "name": "ipython",
    "version": 3
   },
   "file_extension": ".py",
   "mimetype": "text/x-python",
   "name": "python",
   "nbconvert_exporter": "python",
   "pygments_lexer": "ipython3",
   "version": "3.12.7"
  }
 },
 "nbformat": 4,
 "nbformat_minor": 5
}
