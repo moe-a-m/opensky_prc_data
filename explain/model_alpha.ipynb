{
 "cells": [
  {
   "cell_type": "code",
   "execution_count": null,
   "id": "d5c6825d-cb26-456d-8317-bbd3103db260",
   "metadata": {},
   "outputs": [],
   "source": [
    "%matplotlib inline"
   ]
  },
  {
   "cell_type": "code",
   "execution_count": null,
   "id": "72eb85c8-610f-41ff-b170-3005cf0d0be8",
   "metadata": {},
   "outputs": [],
   "source": [
    "import numpy as np\n",
    "import pandas as pd\n",
    "import matplotlib.pyplot as plt"
   ]
  },
  {
   "cell_type": "code",
   "execution_count": null,
   "id": "f4c6af5a-d5d2-4eda-b853-8648d552e73a",
   "metadata": {},
   "outputs": [],
   "source": [
    "challenge_df = pd.read_csv(\"../data/challenge_set.csv\")\n",
    "submission_df = pd.read_csv(\"../data/submission_set.csv\")"
   ]
  },
  {
   "cell_type": "code",
   "execution_count": null,
   "id": "5847fe23-c8f1-4532-b5c1-74b4059f63a0",
   "metadata": {},
   "outputs": [],
   "source": [
    "challenge_df.describe()"
   ]
  },
  {
   "cell_type": "code",
   "execution_count": null,
   "id": "f0d33b10-0244-484b-b2c5-03c5440aed1a",
   "metadata": {},
   "outputs": [],
   "source": [
    "challenge_df.head()"
   ]
  },
  {
   "cell_type": "code",
   "execution_count": null,
   "id": "82ac87da-5e4a-486e-8c6f-421838ef8e87",
   "metadata": {},
   "outputs": [],
   "source": [
    "list(challenge_df)"
   ]
  },
  {
   "cell_type": "markdown",
   "id": "b19eba6d-d954-4714-950e-9aea1ca585b2",
   "metadata": {},
   "source": [
    "## Feature Encoding:"
   ]
  },
  {
   "cell_type": "code",
   "execution_count": null,
   "id": "fe7536d6-70db-4105-ac18-96bda636f861",
   "metadata": {},
   "outputs": [],
   "source": [
    "from sklearn import preprocessing\n",
    "le = preprocessing.LabelEncoder()"
   ]
  },
  {
   "cell_type": "code",
   "execution_count": null,
   "id": "9fc09529-3a04-4df0-8ddd-36ac034f8626",
   "metadata": {},
   "outputs": [],
   "source": [
    "le.fit(challenge_df['adep'])\n",
    "challenge_df['adep_category'] = le.transform(challenge_df['adep']) + 1\n",
    "challenge_df[['adep','adep_category']]"
   ]
  },
  {
   "cell_type": "code",
   "execution_count": null,
   "id": "19708c44-caf6-46de-a0d1-7d1903b146b0",
   "metadata": {},
   "outputs": [],
   "source": [
    "le.fit(challenge_df['country_code_adep'])\n",
    "challenge_df['country_code_adep_category'] = le.transform(challenge_df['country_code_adep']) + 1\n",
    "challenge_df[['country_code_adep','country_code_adep_category']]"
   ]
  },
  {
   "cell_type": "code",
   "execution_count": null,
   "id": "f3ebe639-8381-4c54-b249-d42c57449e83",
   "metadata": {},
   "outputs": [],
   "source": [
    "le.fit(challenge_df['ades'])\n",
    "challenge_df['ades_category'] = le.transform(challenge_df['ades']) + 1\n",
    "challenge_df[['ades','adep_category']]"
   ]
  },
  {
   "cell_type": "code",
   "execution_count": null,
   "id": "a194c311-1264-41cb-8a18-544c47b923c6",
   "metadata": {},
   "outputs": [],
   "source": [
    "le.fit(challenge_df['country_code_ades'])\n",
    "challenge_df['country_code_ades_category'] = le.transform(challenge_df['country_code_ades']) + 1\n",
    "challenge_df[['country_code_ades','country_code_ades_category']]"
   ]
  },
  {
   "cell_type": "code",
   "execution_count": null,
   "id": "44cbbc6b-cb7d-4429-809b-f10578b0d769",
   "metadata": {},
   "outputs": [],
   "source": [
    "def encode_datetime(data, col, max_val):\n",
    "    data[col + '_sin'] = np.sin(2 * np.pi * data[col]/max_val)\n",
    "    data[col + '_cos'] = np.cos(2 * np.pi * data[col]/max_val)\n",
    "    return data"
   ]
  },
  {
   "cell_type": "code",
   "execution_count": null,
   "id": "56782872-f663-4ee0-a443-1083cb932a57",
   "metadata": {},
   "outputs": [],
   "source": [
    "challenge_df['actual_offblock_time'] = pd.to_datetime(challenge_df['actual_offblock_time'], utc=True)\n",
    "challenge_df['actual_offblock_time_month'] = challenge_df[\"actual_offblock_time\"].dt.month\n",
    "challenge_df['actual_offblock_time_day'] = challenge_df[\"actual_offblock_time\"].dt.day\n",
    "challenge_df['actual_offblock_time_hour'] = challenge_df[\"actual_offblock_time\"].dt.hour\n",
    "challenge_df['actual_offblock_time_minue'] = challenge_df[\"actual_offblock_time\"].dt.minute\n",
    "encode_datetime(challenge_df, 'actual_offblock_time_month', 12)\n",
    "encode_datetime(challenge_df, 'actual_offblock_time_day', 31)\n",
    "encode_datetime(challenge_df, 'actual_offblock_time_hour', 24)\n",
    "encode_datetime(challenge_df, 'actual_offblock_time_minue', 60)\n",
    "challenge_df"
   ]
  },
  {
   "cell_type": "code",
   "execution_count": null,
   "id": "7fa132c5-e8b4-475f-a665-817bd57e09e7",
   "metadata": {},
   "outputs": [],
   "source": [
    "challenge_df['arrival_time'] = pd.to_datetime(challenge_df['arrival_time'], utc=True)\n",
    "challenge_df['arrival_time_month'] = challenge_df[\"arrival_time\"].dt.month\n",
    "challenge_df['arrival_time_day'] = challenge_df[\"arrival_time\"].dt.day\n",
    "challenge_df['arrival_time_hour'] = challenge_df[\"arrival_time\"].dt.hour\n",
    "challenge_df['arrival_time_minue'] = challenge_df[\"arrival_time\"].dt.minute\n",
    "encode_datetime(challenge_df, 'arrival_time_month', 12)\n",
    "encode_datetime(challenge_df, 'arrival_time_day', 31)\n",
    "encode_datetime(challenge_df, 'arrival_time_hour', 12)\n",
    "encode_datetime(challenge_df, 'arrival_time_minue', 60)\n",
    "challenge_df"
   ]
  },
  {
   "cell_type": "code",
   "execution_count": null,
   "id": "50cdb925-433a-4ccb-838e-592b01871bf4",
   "metadata": {},
   "outputs": [],
   "source": [
    "le.fit(challenge_df['aircraft_type'])\n",
    "challenge_df['aircraft_type_category'] = le.transform(challenge_df['aircraft_type']) + 1\n",
    "challenge_df[['aircraft_type','aircraft_type_category']]"
   ]
  },
  {
   "cell_type": "code",
   "execution_count": null,
   "id": "db8b6936-602c-4777-893e-06f8ba311f85",
   "metadata": {},
   "outputs": [],
   "source": [
    "le.fit(challenge_df['wtc'])\n",
    "challenge_df['wtc_category'] = le.transform(challenge_df['wtc']) + 1\n",
    "challenge_df[['wtc','wtc_category']]"
   ]
  },
  {
   "cell_type": "code",
   "execution_count": null,
   "id": "9c169d2c-6478-45b5-a480-a248f0d4e8ce",
   "metadata": {},
   "outputs": [],
   "source": [
    "le.fit(challenge_df['airline'])\n",
    "challenge_df['airline_category'] = le.transform(challenge_df['airline']) + 1\n",
    "challenge_df[['airline','airline_category']]"
   ]
  },
  {
   "cell_type": "code",
   "execution_count": null,
   "id": "653cbc4b-30b1-49b0-8f05-c6a0895d6481",
   "metadata": {},
   "outputs": [],
   "source": [
    "import lightgbm as lgb"
   ]
  },
  {
   "cell_type": "markdown",
   "id": "5c0cb2e2-3423-44b5-a543-d7377ac3c78c",
   "metadata": {},
   "source": [
    "# Splitting the data"
   ]
  },
  {
   "cell_type": "code",
   "execution_count": null,
   "id": "537cf007-e332-4bf1-b3cf-521220220b72",
   "metadata": {},
   "outputs": [],
   "source": [
    "from sklearn.model_selection import train_test_split\n",
    "import gc"
   ]
  },
  {
   "cell_type": "code",
   "execution_count": null,
   "id": "179730e6-257e-4793-bad5-f9f0a403474a",
   "metadata": {},
   "outputs": [],
   "source": [
    "list(challenge_df)"
   ]
  },
  {
   "cell_type": "code",
   "execution_count": null,
   "id": "04ab9b9a-fe21-45c6-bd7b-993a3d21a167",
   "metadata": {},
   "outputs": [],
   "source": [
    "x, y = challenge_df[['flight_id','flight_duration',\n",
    " 'taxiout_time',\n",
    " 'flown_distance', 'adep_category',\n",
    " 'country_code_adep_category',\n",
    " 'ades_category',\n",
    " 'country_code_ades_category',\n",
    " 'actual_offblock_time_month',\n",
    " 'actual_offblock_time_day',\n",
    " 'actual_offblock_time_hour',\n",
    " 'actual_offblock_time_minue',\n",
    " 'actual_offblock_time_month_sin',\n",
    " 'actual_offblock_time_month_cos',\n",
    " 'actual_offblock_time_day_sin',\n",
    " 'actual_offblock_time_day_cos',\n",
    " 'actual_offblock_time_hour_sin',\n",
    " 'actual_offblock_time_hour_cos',\n",
    " 'actual_offblock_time_minue_sin',\n",
    " 'actual_offblock_time_minue_cos',\n",
    " 'arrival_time_month',\n",
    " 'arrival_time_day',\n",
    " 'arrival_time_hour',\n",
    " 'arrival_time_minue',\n",
    " 'arrival_time_month_sin',\n",
    " 'arrival_time_month_cos',\n",
    " 'arrival_time_day_sin',\n",
    " 'arrival_time_day_cos',\n",
    " 'arrival_time_hour_sin',\n",
    " 'arrival_time_hour_cos',\n",
    " 'arrival_time_minue_sin',\n",
    " 'arrival_time_minue_cos',\n",
    " 'aircraft_type_category',\n",
    " 'wtc_category',\n",
    " 'airline_category']], challenge_df['tow']"
   ]
  },
  {
   "cell_type": "code",
   "execution_count": null,
   "id": "a28aa44a-d9df-47fb-99c1-69dd83cdd0ce",
   "metadata": {},
   "outputs": [],
   "source": [
    "x_train, x_test, y_train, y_test = train_test_split(x, y, test_size=0.2, random_state=42)"
   ]
  },
  {
   "cell_type": "code",
   "execution_count": null,
   "id": "d111fe14-80b7-4b64-9ca2-41532e1f9d63",
   "metadata": {},
   "outputs": [],
   "source": [
    "d_train = lgb.Dataset(x_train, label=y_train)"
   ]
  },
  {
   "cell_type": "code",
   "execution_count": null,
   "id": "de6d2d7f-576a-4602-abca-a6ee62582225",
   "metadata": {},
   "outputs": [],
   "source": [
    "params = {}\n",
    "params['max_bin'] = 10\n",
    "params['learning_rate'] = 0.001\n",
    "params['boosting_type'] = 'gbdt'\n",
    "params['objective'] = 'regression'\n",
    "params['metric'] = 'l1'          \n",
    "params['sub_feature'] = 0.5      \n",
    "params['bagging_fraction'] = 0.85 \n",
    "params['bagging_freq'] = 40\n",
    "params['num_leaves'] = 512        \n",
    "params['min_data'] = 500         \n",
    "params['min_hessian'] = 0.05     \n",
    "params['verbose'] = 0\n",
    "print(\"\\nFitting LightGBM model ...\")\n",
    "clf = lgb.train(params, d_train)"
   ]
  },
  {
   "cell_type": "code",
   "execution_count": null,
   "id": "48da530a-26de-42a1-9626-9fdc46dbc2f2",
   "metadata": {},
   "outputs": [],
   "source": [
    "sample = pd.read_csv('../data/submission_set.csv')\n",
    "sample['flight_id'] = sample['flight_id']"
   ]
  },
  {
   "cell_type": "code",
   "execution_count": null,
   "id": "c6d65ff0-e1c2-4b1b-9be7-3f37700a84fa",
   "metadata": {},
   "outputs": [],
   "source": [
    "p_test = clf.predict(x_test)\n",
    "print( \"\\nUnadjusted LightGBM predictions:\" )\n",
    "print( pd.DataFrame(p_test).head() )"
   ]
  },
  {
   "cell_type": "code",
   "execution_count": null,
   "id": "332d3cdb-44b7-480e-aee9-9067111308ef",
   "metadata": {},
   "outputs": [],
   "source": [
    "pd.DataFrame(p_test)"
   ]
  },
  {
   "cell_type": "code",
   "execution_count": null,
   "id": "234b92c8-6dc9-415c-bcca-b299d8555675",
   "metadata": {},
   "outputs": [],
   "source": [
    "y_pred=[]\n",
    "for i,predict in enumerate(p_test):\n",
    "    y_pred.append(round(predict,4))\n",
    "y_pred= np.array(y_pred)\n",
    "y_test= np.array(y_test)"
   ]
  },
  {
   "cell_type": "code",
   "execution_count": null,
   "id": "a31af7f8-c179-4996-900c-5ddd2c7f5d6d",
   "metadata": {},
   "outputs": [],
   "source": [
    "from sklearn.metrics import root_mean_squared_error, r2_score\n",
    "r2_score(y_test, y_pred)"
   ]
  },
  {
   "cell_type": "code",
   "execution_count": null,
   "id": "34de84f4-a640-4d23-9a87-c1b598e5a0e2",
   "metadata": {},
   "outputs": [],
   "source": [
    "root_mean_squared_error(y_test, y_pred)"
   ]
  },
  {
   "cell_type": "markdown",
   "id": "2bf8221e-a6bf-435d-88c9-2838e4420358",
   "metadata": {},
   "source": [
    "# Rate of climb(roc) and speed profile"
   ]
  },
  {
   "cell_type": "code",
   "execution_count": null,
   "id": "e3b6b163-0d28-4e6f-a13c-fa9808e7ea87",
   "metadata": {},
   "outputs": [],
   "source": []
  }
 ],
 "metadata": {
  "kernelspec": {
   "display_name": "Python 3 (ipykernel)",
   "language": "python",
   "name": "python3"
  },
  "language_info": {
   "codemirror_mode": {
    "name": "ipython",
    "version": 3
   },
   "file_extension": ".py",
   "mimetype": "text/x-python",
   "name": "python",
   "nbconvert_exporter": "python",
   "pygments_lexer": "ipython3",
   "version": "3.12.7"
  }
 },
 "nbformat": 4,
 "nbformat_minor": 5
}
